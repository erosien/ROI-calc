{
 "cells": [
  {
   "cell_type": "code",
   "execution_count": 4,
   "id": "06c868c4",
   "metadata": {},
   "outputs": [
    {
     "name": "stdout",
     "output_type": "stream",
     "text": [
      "Enter your total monthly income: $20000\n",
      "Enter your total monthly expenses for this property: $10000\n",
      "Enter in your total investments: $2000\n",
      "Your monthly cash flow is $10000.\n",
      "Your annual cash flow is $120000.\n",
      "Your Cash on Cash ROI is 60.0%\n"
     ]
    }
   ],
   "source": [
    "class ROIcalc():\n",
    "    def __init__(self, monthly_income, monthly_expenses, total_investment):\n",
    "        self.monthly_income = monthly_income\n",
    "        self.monthly_expenses = monthly_expenses\n",
    "        self.total_investment = total_investment\n",
    "    def monthly_cash_flow(self):\n",
    "        return self.monthly_income - self.monthly_expenses\n",
    "    def cash_on_cash_roi(self):\n",
    "        annual_cash_flow = self.monthly_cash_flow() * 12\n",
    "        return annual_cash_flow / self.total_investment\n",
    "def run():\n",
    "    monthly_income = int(input(\"Enter your total monthly income: $\"))\n",
    "    monthly_expenses = int(input(\"Enter your total monthly expenses for this property: $\"))\n",
    "    total_investment = int(input(\"Enter in your total investments: $\"))\n",
    "    my_property = ROIcalc(monthly_income, monthly_expenses, total_investment)\n",
    "    m_cash_flow = my_property.monthly_cash_flow()\n",
    "    a_cash_flow = my_property.monthly_cash_flow() * 12\n",
    "    ROI = my_property.cash_on_cash_roi()\n",
    "    print(f\"Your monthly cash flow is ${m_cash_flow}.\\nYour annual cash flow is ${a_cash_flow}.\\nYour Cash on Cash ROI is {ROI}%\")\n",
    "run()"
   ]
  },
  {
   "cell_type": "code",
   "execution_count": null,
   "id": "a77ce19f",
   "metadata": {},
   "outputs": [],
   "source": []
  }
 ],
 "metadata": {
  "kernelspec": {
   "display_name": "Python 3 (ipykernel)",
   "language": "python",
   "name": "python3"
  },
  "language_info": {
   "codemirror_mode": {
    "name": "ipython",
    "version": 3
   },
   "file_extension": ".py",
   "mimetype": "text/x-python",
   "name": "python",
   "nbconvert_exporter": "python",
   "pygments_lexer": "ipython3",
   "version": "3.9.13"
  }
 },
 "nbformat": 4,
 "nbformat_minor": 5
}
